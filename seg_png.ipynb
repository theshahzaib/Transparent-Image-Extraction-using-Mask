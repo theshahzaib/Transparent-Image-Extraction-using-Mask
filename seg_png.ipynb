{
 "cells": [
  {
   "cell_type": "markdown",
   "metadata": {},
   "source": [
    "Author: Shahzaib (Ai Dev)"
   ]
  },
  {
   "cell_type": "markdown",
   "metadata": {},
   "source": [
    "## Reading Image and Extract points from Json"
   ]
  },
  {
   "cell_type": "code",
   "execution_count": 127,
   "metadata": {},
   "outputs": [],
   "source": [
    "import matplotlib.pyplot as plt\n",
    "import numpy as np\n",
    "from PIL import Image\n",
    "import json\n",
    "import cv2\n",
    "\n",
    "img_path='./crops/pic_l.jpg'\n",
    "# img_path_pre=img_path.replace('_post_', '_pre_')\n",
    "# img_array_pre=np.array(Image.open(img_path_pre))\n",
    "img_obj = Image.open(img_path)\n",
    "img_array = np.array(img_obj)\n",
    "label_path = img_path.replace('jpg', 'json').replace('images', 'labels')\n",
    "# print(label_path)\n",
    "label_file = open(label_path)\n",
    "label_data = json.load(label_file)\n",
    "# print(label_data)\n",
    "# plt.figure(figsize=(5,5))\n",
    "# plt.imshow(img_array_pre)\n",
    "\n",
    "a = label_data['shapes']\n",
    "# print(a)\n",
    "for b in a:\n",
    "    c = b['points']\n",
    "    # print(b['points'])\n",
    "\n",
    "# print(c)\n",
    "\n",
    "width, height, _ = img_array.shape\n",
    "polygon = c\n",
    "\n"
   ]
  },
  {
   "cell_type": "markdown",
   "metadata": {},
   "source": [
    "## Converting points polygon to Image Mask"
   ]
  },
  {
   "cell_type": "code",
   "execution_count": 128,
   "metadata": {},
   "outputs": [
    {
     "data": {
      "image/png": "[encoded data removed]",
      "text/plain": [
       "<Figure size 432x288 with 1 Axes>"
      ]
     },
     "metadata": {
      "needs_background": "light"
     },
     "output_type": "display_data"
    }
   ],
   "source": [
    "from matplotlib.path import Path\n",
    "width, height= img_obj.size\n",
    "poly_path=Path(polygon)\n",
    "x, y = np.mgrid[:height, :width]\n",
    "coors=np.hstack((x.reshape(-1, 1), y.reshape(-1,1)))\n",
    "mask = poly_path.contains_points(coors).reshape(height, width).T\n",
    "plt.imshow(mask);\n"
   ]
  },
  {
   "cell_type": "markdown",
   "metadata": {},
   "source": [
    "## Apply mask as a filter on Original Image"
   ]
  },
  {
   "cell_type": "code",
   "execution_count": 129,
   "metadata": {},
   "outputs": [
    {
     "data": {
      "image/png": "[encoded data removed]",
      "text/plain": [
       "<Figure size 432x288 with 1 Axes>"
      ]
     },
     "metadata": {
      "needs_background": "light"
     },
     "output_type": "display_data"
    }
   ],
   "source": [
    "img_masked=np.zeros(img_array.shape,dtype=img_array.dtype)\n",
    "img_masked[mask]=img_array[mask]\n",
    "# plt.figure(figsize=(6,6))\n",
    "plt.imshow(img_masked);\n"
   ]
  },
  {
   "cell_type": "markdown",
   "metadata": {},
   "source": [
    "## Convert resulted image to transparent image by adding 'Alpha Channel'"
   ]
  },
  {
   "cell_type": "code",
   "execution_count": 130,
   "metadata": {},
   "outputs": [
    {
     "data": {
      "image/png": "[encoded data removed]",
      "text/plain": [
       "<Figure size 432x288 with 1 Axes>"
      ]
     },
     "metadata": {
      "needs_background": "light"
     },
     "output_type": "display_data"
    }
   ],
   "source": [
    "# Load image as Numpy array in BGR order\n",
    "# na = cv2.imread('I5jKW.png')\n",
    "na = img_masked\n",
    "\n",
    "# Make a True/False mask of pixels whose BGR values sum to more than zero\n",
    "alpha = np.sum(na, axis=-1) > 0\n",
    "\n",
    "# Convert True/False to 0/255 and change type to \"uint8\" to match \"na\"\n",
    "alpha = np.uint8(alpha * 255)\n",
    "\n",
    "# Stack new alpha layer with existing image to go from BGR to BGRA, i.e. 3 channels to 4 channels\n",
    "res = np.dstack((na, alpha))\n",
    "\n",
    "# Save result\n",
    "# cv2.imwrite('result.png', res)\n",
    "\n",
    "plt.imshow(res);"
   ]
  },
  {
   "cell_type": "code",
   "execution_count": null,
   "metadata": {},
   "outputs": [],
   "source": []
  },
  {
   "cell_type": "code",
   "execution_count": null,
   "metadata": {},
   "outputs": [],
   "source": []
  },
  {
   "cell_type": "markdown",
   "metadata": {},
   "source": [
    "## All in One Script for Complete folder Convertion"
   ]
  },
  {
   "cell_type": "code",
   "execution_count": 1,
   "metadata": {},
   "outputs": [
    {
     "name": "stderr",
     "output_type": "stream",
     "text": [
      "100%|██████████| 62/62 [00:00<00:00, 269.77it/s]"
     ]
    },
    {
     "name": "stdout",
     "output_type": "stream",
     "text": [
      "Done Thanks!\n"
     ]
    },
    {
     "name": "stderr",
     "output_type": "stream",
     "text": [
      "\n"
     ]
    }
   ],
   "source": [
    "import os, glob\n",
    "import matplotlib.pyplot as plt\n",
    "import numpy as np\n",
    "from PIL import Image\n",
    "import json\n",
    "import cv2\n",
    "from matplotlib.path import Path\n",
    "from tqdm import tqdm\n",
    "\n",
    "inputFolder = './crops'\n",
    "outputFolder = './png_objs'\n",
    "\n",
    "imgfiles = glob.glob(inputFolder+'/*.jpg')\n",
    "\n",
    "# img_path='./crops/pic_l.jpg'\n",
    "\n",
    "for img_path in tqdm(imgfiles):\n",
    "    img_obj = Image.open(img_path)\n",
    "    img_array = np.array(img_obj)\n",
    "    label_path = img_path.replace('jpg', 'json').replace('images', 'labels')\n",
    "    label_file = open(label_path)\n",
    "    label_data = json.load(label_file)\n",
    "\n",
    "    a = label_data['shapes']\n",
    "    for b in a:\n",
    "        c = b['points']\n",
    "\n",
    "    width, height, _ = img_array.shape\n",
    "    polygon = c\n",
    "    width, height= img_obj.size\n",
    "    poly_path=Path(polygon)\n",
    "    x, y = np.mgrid[:height, :width]\n",
    "    coors=np.hstack((x.reshape(-1, 1), y.reshape(-1,1)))\n",
    "    mask = poly_path.contains_points(coors).reshape(height, width).T\n",
    "    img_masked=np.zeros(img_array.shape,dtype=img_array.dtype)\n",
    "    img_masked[mask]=img_array[mask]\n",
    "    na = img_masked\n",
    "    alpha = np.sum(na, axis=-1) > 0\n",
    "    alpha = np.uint8(alpha * 255)\n",
    "    res = np.dstack((na, alpha))\n",
    "\n",
    "    # res = cv2.resize(res, dsize=(100, 100))\n",
    "\n",
    "    img_name = img_path.split('\\\\')[-1][:-4]\n",
    "    # Save result\n",
    "    cv2.imwrite(outputFolder+'/'+img_name+'_t.png', res)\n",
    "\n",
    "print(\"Done Thanks!\")"
   ]
  },
  {
   "cell_type": "code",
   "execution_count": null,
   "metadata": {},
   "outputs": [],
   "source": []
  },
  {
   "cell_type": "code",
   "execution_count": null,
   "metadata": {},
   "outputs": [],
   "source": []
  },
  {
   "cell_type": "code",
   "execution_count": 30,
   "metadata": {},
   "outputs": [
    {
     "data": {
      "image/png": "[encoded data removed]",
      "text/plain": [
       "<Figure size 432x288 with 1 Axes>"
      ]
     },
     "metadata": {
      "needs_background": "light"
     },
     "output_type": "display_data"
    }
   ],
   "source": [
    "import pylab as plt\n",
    "import numpy as np\n",
    "from matplotlib.path import Path\n",
    "\n",
    "width, height=2000, 2000\n",
    "\n",
    "polygon=[(0.1*width, 0.1*height), (0.15*width, 0.7*height), (0.8*width, 0.75*height), (0.72*width, 0.15*height)]\n",
    "poly_path=Path(polygon)\n",
    "\n",
    "x, y = np.mgrid[:height, :width]\n",
    "coors=np.hstack((x.reshape(-1, 1), y.reshape(-1,1))) # coors.shape is (4000000,2)\n",
    "\n",
    "mask = poly_path.contains_points(coors)\n",
    "plt.imshow(mask.reshape(height, width))\n",
    "plt.show()"
   ]
  },
  {
   "cell_type": "code",
   "execution_count": null,
   "metadata": {},
   "outputs": [],
   "source": []
  }
 ],
 "metadata": {
  "kernelspec": {
   "display_name": "Python 3.9.12 ('base')",
   "language": "python",
   "name": "python3"
  },
  "language_info": {
   "codemirror_mode": {
    "name": "ipython",
    "version": 3
   },
   "file_extension": ".py",
   "mimetype": "text/x-python",
   "name": "python",
   "nbconvert_exporter": "python",
   "pygments_lexer": "ipython3",
   "version": "3.9.12 (main, Apr  4 2022, 05:22:27) [MSC v.1916 64 bit (AMD64)]"
  },
  "orig_nbformat": 4,
  "vscode": {
   "interpreter": {
    "hash": "8112e20eeb4b21eae21a9725e62a0fbb2e364f021f7452142018fd82cbcd3b3b"
   }
  }
 },
 "nbformat": 4,
 "nbformat_minor": 2
}
